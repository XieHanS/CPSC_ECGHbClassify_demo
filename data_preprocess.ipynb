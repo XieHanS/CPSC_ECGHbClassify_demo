{
 "cells": [
  {
   "cell_type": "markdown",
   "metadata": {},
   "source": [
    "data文件夹存储数据文件，每个文件以mat格式存储，n*1数组表示。\n",
    "ref文件夹为标签文件夹，每个文件以mat文件存储，结构体存储，包括S_ref,V_ref两个n*1数组，分别存储对应标签(S,V)的位置；\n",
    "采样率为 400"
   ]
  },
  {
   "cell_type": "code",
   "execution_count": null,
   "metadata": {
    "scrolled": false
   },
   "outputs": [],
   "source": [
    "import numpy as np\n",
    "import scipy.io as scio\n",
    "import matplotlib.pyplot as plt\n",
    "datafile = 'G:/网络心电数据库/CPSC2020/data/A04.mat'# 采样率400\n",
    "data = scio.loadmat(datafile)\n",
    "#rint(data)\n",
    "\n",
    "sig = data['ecg']\n",
    "#print(sig)\n",
    "sig = np.reshape(sig,(-1))\n",
    "print(sig)\n",
    "sigPlot = sig[1:5*200]\n",
    "fig = plt.figure(figsize=(20, 10),dpi=400)\n",
    "plt.plot(sigPlot)\n",
    "plt.show()"
   ]
  },
  {
   "cell_type": "code",
   "execution_count": null,
   "metadata": {},
   "outputs": [],
   "source": [
    "\n",
    "datafile = 'G:/网络心电数据库/CPSC2020/ref/R04.mat'# 采样率400\n",
    "data = scio.loadmat(datafile)\n",
    "#print(data)\n",
    "label = data['ref'][0][0]\n",
    "S_ref = label[0];\n",
    "S_ref = np.reshape(S_ref,(-1))\n",
    "V_ref = label[1];\n",
    "V_ref = np.reshape(V_ref,(-1))"
   ]
  },
  {
   "cell_type": "markdown",
   "metadata": {
    "scrolled": true
   },
   "source": [
    "数据分割为5s一个片段\n",
    "思路：房早室早心拍和前后两个心拍均有关系，按照平均心率72计算，平均每个心拍的时间为60/72，因此5个心拍的时间为60/72*5=4.1667\n",
    "4.1667s不好计算，故选择5s\n",
    "5(秒)*sampr = 5*400=2000个sample\n",
    "\n",
    "定义标签：0：其他；1：V_ref; 2:S_ref;"
   ]
  },
  {
   "cell_type": "code",
   "execution_count": null,
   "metadata": {},
   "outputs": [],
   "source": [
    "a = len(sig)\n",
    "Fs = 400\n",
    "segLen = 5*Fs\n",
    "num = int(a/segLen)\n",
    "print(num)"
   ]
  },
  {
   "cell_type": "code",
   "execution_count": null,
   "metadata": {},
   "outputs": [],
   "source": [
    "#a=[0,0,0,0,0,0,0,0,0,0]\n",
    "print(a)\n",
    "if(np.all(a)==0):\n",
    "    print(\"a\")\n",
    "len(a)"
   ]
  },
  {
   "cell_type": "code",
   "execution_count": null,
   "metadata": {
    "scrolled": false
   },
   "outputs": [],
   "source": [
    "all_data=[]\n",
    "all_label = [];\n",
    "i=1\n",
    "while i<num+1: \n",
    "    all_data.append(np.array(sig[(i-1)*segLen:i*segLen]))\n",
    "    \n",
    "    if set(S_ref) & set(range((i-1)*segLen,i*segLen)):\n",
    "        all_label.append(2)\n",
    "    elif set(V_ref) & set(range((i-1)*segLen,i*segLen)):\n",
    "        all_label.append(1)        \n",
    "    else:\n",
    "        all_label.append(0)    \n",
    "    i=i+1\n",
    "type(all_data)\n",
    "type(all_label)\n",
    "print((np.array(all_data)).shape)\n",
    "print((np.array(all_label)).shape)\n",
    "#print(all_data)"
   ]
  },
  {
   "cell_type": "code",
   "execution_count": null,
   "metadata": {},
   "outputs": [],
   "source": [
    "import pickle\n",
    "res = {'data':all_data, 'label':all_label}\n",
    "with open('./cpsc2020.pkl', 'wb') as fout:\n",
    "    pickle.dump(res, fout)"
   ]
  },
  {
   "cell_type": "code",
   "execution_count": null,
   "metadata": {},
   "outputs": [],
   "source": []
  }
 ],
 "metadata": {
  "kernelspec": {
   "display_name": "Python 3",
   "language": "python",
   "name": "python3"
  },
  "language_info": {
   "codemirror_mode": {
    "name": "ipython",
    "version": 3
   },
   "file_extension": ".py",
   "mimetype": "text/x-python",
   "name": "python",
   "nbconvert_exporter": "python",
   "pygments_lexer": "ipython3",
   "version": "3.6.8"
  }
 },
 "nbformat": 4,
 "nbformat_minor": 2
}
